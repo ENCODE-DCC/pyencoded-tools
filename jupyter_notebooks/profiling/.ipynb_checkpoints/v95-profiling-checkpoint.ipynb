{
 "cells": [
  {
   "cell_type": "code",
   "execution_count": 17,
   "metadata": {},
   "outputs": [],
   "source": [
    "import sys\n",
    "sys.path.append('../..')\n",
    "import qancode"
   ]
  },
  {
   "cell_type": "code",
   "execution_count": 18,
   "metadata": {},
   "outputs": [],
   "source": [
    "#comparing to v65rc2 site\n",
    "qa = qancode.QANCODE(rc_url=\"https://facet-performance-fytanaka.demo.encodedcc.org/\", prod_url=\"https://test.encodedcc.org/\")"
   ]
  },
  {
   "cell_type": "code",
   "execution_count": 20,
   "metadata": {
    "scrolled": true
   },
   "outputs": [
    {
     "name": "stdout",
     "output_type": "stream",
     "text": [
      "Checking response time\n",
      "\n",
      "*** item_type: /\n",
      "------------------------- https://test.encodedcc.org// -------------------------\n",
      "\u001b[36mAverage es_time: 1.672 ± 0.31 ms (n=1000)\u001b[0m\n",
      "\u001b[36mAverage queue_time: 0.369 ± 0.05 ms (n=1000)\u001b[0m\n",
      "\u001b[36mAverage render_time: 3.014 ± 8.0 ms (n=1000)\u001b[0m\n",
      "\u001b[36mAverage wsgi_time: 8.188 ± 8.115 ms (n=1000)\u001b[0m\n",
      "\u001b[36mAverage total time: 13.243 ± 16.143 ms (n=1000)\u001b[0m\n",
      "----------- https://facet-performance-fytanaka.demo.encodedcc.org// ------------\n",
      "\u001b[36mAverage es_time: 1.586 ± 0.19 ms (n=1000)\u001b[0m\n",
      "\u001b[36mAverage queue_time: 0.562 ± 0.014 ms (n=1000)\u001b[0m\n",
      "\u001b[36mAverage render_time: 3.084 ± 0.528 ms (n=1000)\u001b[0m\n",
      "\u001b[36mAverage wsgi_time: 8.509 ± 0.712 ms (n=1000)\u001b[0m\n",
      "\u001b[36mAverage total time: 13.741 ± 1.335 ms (n=1000)\u001b[0m\n",
      "\n"
     ]
    }
   ],
   "source": [
    "qa.check_response_time(item_types=[\"/\", \"/search/?type=Experiment\"], n=100)"
   ]
  },
  {
   "cell_type": "code",
   "execution_count": 21,
   "metadata": {
    "scrolled": true
   },
   "outputs": [
    {
     "name": "stdout",
     "output_type": "stream",
     "text": [
      "Checking response time\n",
      "\n",
      "*** item_type: /search/?searchTerm=K562\n",
      "------------- https://test.encodedcc.org//search/?searchTerm=K562 --------------\n",
      "\u001b[31mAverage es_time: 74.451 ± 16.037 ms (n=100)\u001b[0m\n",
      "\u001b[36mAverage queue_time: 0.407 ± 0.06 ms (n=100)\u001b[0m\n",
      "\u001b[36mAverage render_time: 10.841 ± 2.503 ms (n=100)\u001b[0m\n",
      "\u001b[36mAverage wsgi_time: 90.087 ± 17.478 ms (n=100)\u001b[0m\n",
      "\u001b[33mAverage total time: 175.787 ± 34.334 ms (n=100)\u001b[0m\n",
      "--------- https://facet-performance-fytanaka.demo.encodedcc.org//search/?searchTerm=K562 ---------\n",
      "\u001b[31mAverage es_time: 61.164 ± 64.932 ms (n=100)\u001b[0m\n",
      "\u001b[36mAverage queue_time: 0.568 ± 0.018 ms (n=100)\u001b[0m\n",
      "\u001b[36mAverage render_time: 11.16 ± 2.343 ms (n=100)\u001b[0m\n",
      "\u001b[36mAverage wsgi_time: 86.957 ± 79.606 ms (n=100)\u001b[0m\n",
      "\u001b[33mAverage total time: 159.849 ± 138.502 ms (n=100)\u001b[0m\n",
      "\n",
      "\n",
      "*** item_type: /search/?searchTerm=DNA+binding\n",
      "---------- https://test.encodedcc.org//search/?searchTerm=DNA+binding ----------\n",
      "\u001b[31mAverage es_time: 78.052 ± 10.571 ms (n=100)\u001b[0m\n",
      "\u001b[36mAverage queue_time: 0.398 ± 0.028 ms (n=100)\u001b[0m\n",
      "\u001b[36mAverage render_time: 10.498 ± 1.731 ms (n=100)\u001b[0m\n",
      "\u001b[36mAverage wsgi_time: 98.504 ± 41.066 ms (n=100)\u001b[0m\n",
      "\u001b[33mAverage total time: 187.452 ± 45.426 ms (n=100)\u001b[0m\n",
      "--------- https://facet-performance-fytanaka.demo.encodedcc.org//search/?searchTerm=DNA+binding ---------\n",
      "\u001b[31mAverage es_time: 54.787 ± 13.451 ms (n=100)\u001b[0m\n",
      "\u001b[36mAverage queue_time: 0.565 ± 0.013 ms (n=100)\u001b[0m\n",
      "\u001b[36mAverage render_time: 11.009 ± 2.044 ms (n=100)\u001b[0m\n",
      "\u001b[36mAverage wsgi_time: 75.211 ± 34.182 ms (n=100)\u001b[0m\n",
      "\u001b[36mAverage total time: 141.572 ± 41.43 ms (n=100)\u001b[0m\n",
      "\n",
      "\n",
      "*** item_type: /search/?searchTerm=human\n",
      "------------- https://test.encodedcc.org//search/?searchTerm=human -------------\n",
      "\u001b[31mAverage es_time: 81.359 ± 11.074 ms (n=100)\u001b[0m\n",
      "\u001b[36mAverage queue_time: 0.405 ± 0.023 ms (n=100)\u001b[0m\n",
      "\u001b[36mAverage render_time: 12.913 ± 2.126 ms (n=100)\u001b[0m\n",
      "\u001b[36mAverage wsgi_time: 98.893 ± 11.019 ms (n=100)\u001b[0m\n",
      "\u001b[33mAverage total time: 193.57 ± 22.073 ms (n=100)\u001b[0m\n",
      "--------- https://facet-performance-fytanaka.demo.encodedcc.org//search/?searchTerm=human ---------\n",
      "\u001b[31mAverage es_time: 61.073 ± 8.813 ms (n=100)\u001b[0m\n",
      "\u001b[36mAverage queue_time: 0.565 ± 0.011 ms (n=100)\u001b[0m\n",
      "\u001b[36mAverage render_time: 13.416 ± 2.275 ms (n=100)\u001b[0m\n",
      "\u001b[36mAverage wsgi_time: 79.501 ± 9.372 ms (n=100)\u001b[0m\n",
      "\u001b[33mAverage total time: 154.556 ± 18.753 ms (n=100)\u001b[0m\n",
      "\n",
      "\n",
      "*** item_type: /search/?searchTerm=H3K36me3\n",
      "----------- https://test.encodedcc.org//search/?searchTerm=H3K36me3 ------------\n",
      "\u001b[31mAverage es_time: 79.237 ± 15.566 ms (n=100)\u001b[0m\n",
      "\u001b[36mAverage queue_time: 0.396 ± 0.03 ms (n=100)\u001b[0m\n",
      "\u001b[36mAverage render_time: 10.426 ± 1.85 ms (n=100)\u001b[0m\n",
      "\u001b[36mAverage wsgi_time: 94.179 ± 15.732 ms (n=100)\u001b[0m\n",
      "\u001b[33mAverage total time: 184.238 ± 31.45 ms (n=100)\u001b[0m\n",
      "--------- https://facet-performance-fytanaka.demo.encodedcc.org//search/?searchTerm=H3K36me3 ---------\n",
      "\u001b[31mAverage es_time: 53.388 ± 5.288 ms (n=100)\u001b[0m\n",
      "\u001b[36mAverage queue_time: 0.564 ± 0.011 ms (n=100)\u001b[0m\n",
      "\u001b[36mAverage render_time: 11.376 ± 2.301 ms (n=100)\u001b[0m\n",
      "\u001b[36mAverage wsgi_time: 69.755 ± 5.532 ms (n=100)\u001b[0m\n",
      "\u001b[36mAverage total time: 135.083 ± 11.089 ms (n=100)\u001b[0m\n",
      "\n",
      "\n",
      "*** item_type: /search/?searchTerm=CTCF\n",
      "------------- https://test.encodedcc.org//search/?searchTerm=CTCF --------------\n",
      "\u001b[31mAverage es_time: 85.134 ± 10.585 ms (n=100)\u001b[0m\n",
      "\u001b[36mAverage queue_time: 0.417 ± 0.049 ms (n=100)\u001b[0m\n",
      "\u001b[36mAverage render_time: 13.908 ± 26.458 ms (n=100)\u001b[0m\n",
      "\u001b[36mAverage wsgi_time: 103.809 ± 29.117 ms (n=100)\u001b[0m\n",
      "\u001b[33mAverage total time: 203.268 ± 57.69 ms (n=100)\u001b[0m\n",
      "--------- https://facet-performance-fytanaka.demo.encodedcc.org//search/?searchTerm=CTCF ---------\n",
      "\u001b[31mAverage es_time: 55.914 ± 10.254 ms (n=100)\u001b[0m\n",
      "\u001b[36mAverage queue_time: 0.564 ± 0.012 ms (n=100)\u001b[0m\n",
      "\u001b[36mAverage render_time: 12.229 ± 2.018 ms (n=100)\u001b[0m\n",
      "\u001b[36mAverage wsgi_time: 73.144 ± 10.541 ms (n=100)\u001b[0m\n",
      "\u001b[36mAverage total time: 141.851 ± 21.082 ms (n=100)\u001b[0m\n",
      "\n"
     ]
    }
   ],
   "source": [
    "qa.check_response_time(item_types=[\"/search/?searchTerm=K562\", \"/search/?searchTerm=DNA+binding\", \"/search/?searchTerm=human\", \"/search/?searchTerm=H3K36me3\", \"/search/?searchTerm=CTCF\"], n=100)"
   ]
  },
  {
   "cell_type": "code",
   "execution_count": null,
   "metadata": {
    "scrolled": false
   },
   "outputs": [],
   "source": [
    "qa.check_response_time(item_types=['/ENCSR255XZG/', '/ENCSR749ILN/', '/ENCSR688GVV/', '/ENCSR301HAG/','/ENCSR315NAC/', '/ENCSR856JJB/'], n=100)"
   ]
  },
  {
   "cell_type": "code",
   "execution_count": null,
   "metadata": {
    "scrolled": true
   },
   "outputs": [],
   "source": [
    "qa.check_response_time(item_types=['/ENCSR480OHP/','/ENCSR000EMB/','/ENCSR323QIP/','/ENCSR718AXQ/','/ENCSR165BGV/','/ENCSR384KAN/','/ENCSR330FXL/','/ENCSR825UNV/','/ENCSR089EOA/'], n=100)"
   ]
  },
  {
   "cell_type": "code",
   "execution_count": null,
   "metadata": {},
   "outputs": [],
   "source": [
    "qa.check_response_time(item_types=['/ENCAB830JLB/','/ENCAB000BKR/','/ENCAB284TTY/','/ENCAB294YUD/','/ENCAB000AOC/','/ENCAB301QZF/','/ENCAB000ANM/','/ENCAB000ANU/','/ENCAB445KMF/','/ENCAB000BAY/'], n=100)"
   ]
  },
  {
   "cell_type": "code",
   "execution_count": null,
   "metadata": {},
   "outputs": [],
   "source": [
    "qa.check_response_time(item_types=['/ENCBS787TFV/','/ENCBS676QAV/','/ENCBS996IWU/','/ENCBS913XJP/','/ENCBS565NTN/','/ENCBS896YZO/','/ENCBS280NYD/'], n=100)"
   ]
  },
  {
   "cell_type": "code",
   "execution_count": null,
   "metadata": {},
   "outputs": [],
   "source": [
    "qa.check_response_time(item_types=['/ENCBS565NTN/','/ENCBS896YZO/','/ENCBS280NYD/','/ENCSR323QIP/','/ENCSR718AXQ/','/ENCSR165BGV/','/ENCSR384KAN/','/ENCSR330FXL/','/ENCSR825UNV/','/ENCSR089EOA/'], n=100)"
   ]
  },
  {
   "cell_type": "code",
   "execution_count": null,
   "metadata": {},
   "outputs": [],
   "source": [
    "qa.check_response_time(item_types=['/ENCSR825UNV/','/ENCSR089EOA/'], n=100)"
   ]
  },
  {
   "cell_type": "code",
   "execution_count": null,
   "metadata": {},
   "outputs": [],
   "source": [
    "qa.check_response_time(item_types=['publication-data/ENCSR825UNV?format=json','publication-data/ENCSR089EOA?format=json'], n=100)"
   ]
  },
  {
   "cell_type": "code",
   "execution_count": null,
   "metadata": {},
   "outputs": [],
   "source": [
    "qa.check_response_time(item_types=['experiments/ENCSR323QIP/?format=json','experiments/ENCSR718AXQ/?format=json'], n=100)"
   ]
  },
  {
   "cell_type": "code",
   "execution_count": null,
   "metadata": {
    "collapsed": true
   },
   "outputs": [],
   "source": []
  }
 ],
 "metadata": {
  "kernelspec": {
   "display_name": "Python 3",
   "language": "python",
   "name": "python3"
  },
  "language_info": {
   "codemirror_mode": {
    "name": "ipython",
    "version": 3
   },
   "file_extension": ".py",
   "mimetype": "text/x-python",
   "name": "python",
   "nbconvert_exporter": "python",
   "pygments_lexer": "ipython3",
   "version": "3.7.5"
  }
 },
 "nbformat": 4,
 "nbformat_minor": 2
}
