{
 "cells": [
  {
   "cell_type": "code",
   "execution_count": 1,
   "metadata": {
    "collapsed": true
   },
   "outputs": [],
   "source": [
    "import sys\n",
    "sys.path.append('../..')\n",
    "import qancode"
   ]
  },
  {
   "cell_type": "code",
   "execution_count": null,
   "metadata": {
    "collapsed": true
   },
   "outputs": [],
   "source": [
    "#comparing to v65rc2 site\n",
    "qa = qancode.QANCODE(rc_url=\"https://v79rc1-master.demo.encodedcc.org/\", prod_url=\"https://test.encodedcc.org/\")"
   ]
  },
  {
   "cell_type": "code",
   "execution_count": null,
   "metadata": {
    "scrolled": true
   },
   "outputs": [
    {
     "name": "stdout",
     "output_type": "stream",
     "text": [
      "Checking response time\n",
      "\n",
      "*** item_type: /\n",
      "------------------------- https://test.encodedcc.org// -------------------------\n",
      "\u001b[36mAverage es_time: 2.404 ± 0.235 ms (n=100)\u001b[0m\n",
      "\u001b[36mAverage queue_time: 0.508 ± 0.021 ms (n=100)\u001b[0m\n",
      "\u001b[36mAverage render_time: 5.502 ± 1.384 ms (n=100)\u001b[0m\n",
      "\u001b[36mAverage wsgi_time: 12.039 ± 1.406 ms (n=100)\u001b[0m\n",
      "\u001b[36mAverage total time: 20.454 ± 2.78 ms (n=100)\u001b[0m\n",
      "------------------ https://v79rc1-master.demo.encodedcc.org// ------------------\n",
      "\u001b[36mAverage es_time: 2.174 ± 0.228 ms (n=100)\u001b[0m\n",
      "\u001b[36mAverage queue_time: 0.362 ± 0.032 ms (n=100)\u001b[0m\n",
      "\u001b[36mAverage render_time: 3.826 ± 0.929 ms (n=100)\u001b[0m\n",
      "\u001b[36mAverage wsgi_time: 9.435 ± 0.931 ms (n=100)\u001b[0m\n",
      "\u001b[36mAverage total time: 15.798 ± 1.837 ms (n=100)\u001b[0m\n",
      "\n",
      "\n",
      "*** item_type: /search/?type=Experiment\n",
      "------------- https://test.encodedcc.org//search/?type=Experiment --------------\n",
      "\u001b[31mAverage es_time: 25.89 ± 11.699 ms (n=100)\u001b[0m\n",
      "\u001b[36mAverage queue_time: 0.561 ± 0.022 ms (n=100)\u001b[0m\n",
      "\u001b[36mAverage render_time: 149.262 ± 6.897 ms (n=100)\u001b[0m\n",
      "\u001b[33mAverage wsgi_time: 200.628 ± 91.668 ms (n=100)\u001b[0m\n",
      "\u001b[33mAverage total time: 376.342 ± 98.67 ms (n=100)\u001b[0m\n",
      "------ https://v79rc1-master.demo.encodedcc.org//search/?type=Experiment -------\n"
     ]
    }
   ],
   "source": [
    "qa.check_response_time(item_types=[\"/\",\"/search/?type=Experiment\"], n=100)"
   ]
  },
  {
   "cell_type": "code",
   "execution_count": null,
   "metadata": {
    "scrolled": true
   },
   "outputs": [],
   "source": [
    "qa.check_response_time(item_types=[\"/search/?searchTerm=K562\", \"/search/?searchTerm=DNA+binding\", \"/search/?searchTerm=human\", \"/search/?searchTerm=H3K36me3\", \"/search/?searchTerm=CTCF\"], n=100)"
   ]
  },
  {
   "cell_type": "code",
   "execution_count": null,
   "metadata": {
    "scrolled": false
   },
   "outputs": [],
   "source": [
    "qa.check_response_time(item_types=['/ENCSR255XZG/', '/ENCSR749ILN/', '/ENCSR688GVV/', '/ENCSR301HAG/','/ENCSR315NAC/', '/ENCSR856JJB/'], n=100)"
   ]
  },
  {
   "cell_type": "code",
   "execution_count": null,
   "metadata": {
    "collapsed": true,
    "scrolled": true
   },
   "outputs": [],
   "source": [
    "qa.check_response_time(item_types=['/ENCSR480OHP/','/ENCSR000EMB/','/ENCSR323QIP/','/ENCSR718AXQ/','/ENCSR165BGV/','/ENCSR384KAN/','/ENCSR330FXL/','/ENCSR825UNV/','/ENCSR089EOA/'], n=100)"
   ]
  },
  {
   "cell_type": "code",
   "execution_count": null,
   "metadata": {
    "collapsed": true
   },
   "outputs": [],
   "source": [
    "qa.check_response_time(item_types=['/ENCAB830JLB/','/ENCAB000BKR/','/ENCAB284TTY/','/ENCAB294YUD/','/ENCAB000AOC/','/ENCAB301QZF/','/ENCAB000ANM/','/ENCAB000ANU/','/ENCAB445KMF/','/ENCAB000BAY/'], n=100)"
   ]
  },
  {
   "cell_type": "code",
   "execution_count": null,
   "metadata": {
    "collapsed": true
   },
   "outputs": [],
   "source": [
    "qa.check_response_time(item_types=['/ENCBS787TFV/','/ENCBS676QAV/','/ENCBS996IWU/','/ENCBS913XJP/','/ENCBS565NTN/','/ENCBS896YZO/','/ENCBS280NYD/'], n=100)"
   ]
  }
 ],
 "metadata": {
  "kernelspec": {
   "display_name": "Python 3",
   "language": "python",
   "name": "python3"
  },
  "language_info": {
   "codemirror_mode": {
    "name": "ipython",
    "version": 3
   },
   "file_extension": ".py",
   "mimetype": "text/x-python",
   "name": "python",
   "nbconvert_exporter": "python",
   "pygments_lexer": "ipython3",
   "version": "3.5.1"
  }
 },
 "nbformat": 4,
 "nbformat_minor": 2
}
