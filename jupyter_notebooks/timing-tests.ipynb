{
 "cells": [
  {
   "cell_type": "code",
   "execution_count": 1,
   "metadata": {},
   "outputs": [],
   "source": [
    "import sys\n",
    "sys.path.append('../..')\n",
    "import qancode"
   ]
  },
  {
   "cell_type": "code",
   "execution_count": 2,
   "metadata": {},
   "outputs": [],
   "source": [
    "#comparing to v65rc2 site\n",
    "qa = qancode.QANCODE(rc_url=\"https://encd-3916-broken-metadata-queries-153e03eb1-karthik.demo.encodedcc.org/\", prod_url=\"https://encd-3260-500gb-88ec2d8b3-tdreszer.demo.encodedcc.org\")"
   ]
  },
  {
   "cell_type": "code",
   "execution_count": 3,
   "metadata": {
    "scrolled": true
   },
   "outputs": [
    {
     "name": "stdout",
     "output_type": "stream",
     "text": [
      "Checking response time\n",
      "\n",
      "*** item_type: /\n",
      "-------- https://encd-3260-500gb-88ec2d8b3-tdreszer.demo.encodedcc.org/ --------\n",
      "\u001b[31mAverage es_time: 14.663 ± 1.412 ms (n=100)\u001b[0m\n",
      "\u001b[36mAverage queue_time: 1.272 ± 0.683 ms (n=100)\u001b[0m\n",
      "\u001b[36mAverage render_time: 10.051 ± 3.222 ms (n=100)\u001b[0m\n",
      "\u001b[36mAverage wsgi_time: 34.917 ± 4.618 ms (n=100)\u001b[0m\n",
      "\u001b[36mAverage total time: 60.903 ± 8.126 ms (n=100)\u001b[0m\n",
      "--------- https://encd-3916-broken-metadata-queries-153e03eb1-karthik.demo.encodedcc.org// ---------\n",
      "\u001b[31mAverage es_time: 25.324 ± 3.363 ms (n=100)\u001b[0m\n",
      "\u001b[36mAverage queue_time: 1.246 ± 0.581 ms (n=100)\u001b[0m\n",
      "\u001b[36mAverage render_time: 10.916 ± 3.72 ms (n=100)\u001b[0m\n",
      "\u001b[36mAverage wsgi_time: 48.547 ± 6.539 ms (n=100)\u001b[0m\n",
      "\u001b[36mAverage total time: 86.034 ± 11.214 ms (n=100)\u001b[0m\n",
      "\n",
      "\n",
      "*** item_type: /search/?type=Experiment\n",
      "--------- https://encd-3260-500gb-88ec2d8b3-tdreszer.demo.encodedcc.org/search/?type=Experiment ---------\n",
      "\u001b[31mAverage es_time: 23.205 ± 5.969 ms (n=100)\u001b[0m\n",
      "\u001b[36mAverage queue_time: 1.178 ± 0.689 ms (n=100)\u001b[0m\n",
      "\u001b[36mAverage render_time: 147.781 ± 15.265 ms (n=100)\u001b[0m\n",
      "\u001b[33mAverage wsgi_time: 195.944 ± 40.171 ms (n=100)\u001b[0m\n",
      "\u001b[33mAverage total time: 368.108 ± 49.869 ms (n=100)\u001b[0m\n",
      "--------- https://encd-3916-broken-metadata-queries-153e03eb1-karthik.demo.encodedcc.org//search/?type=Experiment ---------\n",
      "\u001b[31mAverage es_time: 24.903 ± 9.89 ms (n=100)\u001b[0m\n",
      "\u001b[36mAverage queue_time: 1.49 ± 1.105 ms (n=100)\u001b[0m\n",
      "\u001b[33mAverage render_time: 153.406 ± 16.058 ms (n=100)\u001b[0m\n",
      "\u001b[33mAverage wsgi_time: 203.327 ± 20.676 ms (n=100)\u001b[0m\n",
      "\u001b[33mAverage total time: 383.126 ± 40.061 ms (n=100)\u001b[0m\n",
      "\n"
     ]
    }
   ],
   "source": [
    "qa.check_response_time(item_types=[\"/\",\"/search/?type=Experiment\"], n=100)"
   ]
  },
  {
   "cell_type": "code",
   "execution_count": 4,
   "metadata": {
    "scrolled": true
   },
   "outputs": [
    {
     "name": "stdout",
     "output_type": "stream",
     "text": [
      "Checking response time\n",
      "\n",
      "*** item_type: /search/?searchTerm=K562\n",
      "--------- https://encd-3260-500gb-88ec2d8b3-tdreszer.demo.encodedcc.org/search/?searchTerm=K562 ---------\n",
      "\u001b[31mAverage es_time: 257.984 ± 20.881 ms (n=100)\u001b[0m\n",
      "\u001b[36mAverage queue_time: 0.937 ± 0.193 ms (n=100)\u001b[0m\n",
      "\u001b[36mAverage render_time: 26.848 ± 7.53 ms (n=100)\u001b[0m\n",
      "\u001b[33mAverage wsgi_time: 297.103 ± 22.951 ms (n=100)\u001b[0m\n",
      "\u001b[31mAverage total time: 582.872 ± 44.934 ms (n=100)\u001b[0m\n",
      "--------- https://encd-3916-broken-metadata-queries-153e03eb1-karthik.demo.encodedcc.org//search/?searchTerm=K562 ---------\n",
      "\u001b[31mAverage es_time: 289.613 ± 19.268 ms (n=100)\u001b[0m\n",
      "\u001b[36mAverage queue_time: 1.194 ± 0.725 ms (n=100)\u001b[0m\n",
      "\u001b[36mAverage render_time: 30.061 ± 8.04 ms (n=100)\u001b[0m\n",
      "\u001b[33mAverage wsgi_time: 332.731 ± 23.814 ms (n=100)\u001b[0m\n",
      "\u001b[31mAverage total time: 653.599 ± 46.248 ms (n=100)\u001b[0m\n",
      "\n",
      "\n",
      "*** item_type: /search/?searchTerm=DNA+binding\n",
      "--------- https://encd-3260-500gb-88ec2d8b3-tdreszer.demo.encodedcc.org/search/?searchTerm=DNA+binding ---------\n",
      "\u001b[31mAverage es_time: 413.749 ± 17.372 ms (n=100)\u001b[0m\n",
      "\u001b[36mAverage queue_time: 0.943 ± 0.413 ms (n=100)\u001b[0m\n",
      "\u001b[36mAverage render_time: 31.63 ± 7.925 ms (n=100)\u001b[0m\n",
      "\u001b[31mAverage wsgi_time: 458.994 ± 19.198 ms (n=100)\u001b[0m\n",
      "\u001b[31mAverage total time: 905.316 ± 37.936 ms (n=100)\u001b[0m\n",
      "--------- https://encd-3916-broken-metadata-queries-153e03eb1-karthik.demo.encodedcc.org//search/?searchTerm=DNA+binding ---------\n",
      "\u001b[31mAverage es_time: 446.992 ± 31.123 ms (n=100)\u001b[0m\n",
      "\u001b[36mAverage queue_time: 1.21 ± 0.898 ms (n=100)\u001b[0m\n",
      "\u001b[36mAverage render_time: 31.851 ± 6.244 ms (n=100)\u001b[0m\n",
      "\u001b[31mAverage wsgi_time: 494.432 ± 33.353 ms (n=100)\u001b[0m\n",
      "\u001b[31mAverage total time: 974.485 ± 66.029 ms (n=100)\u001b[0m\n",
      "\n",
      "\n",
      "*** item_type: /search/?searchTerm=human\n",
      "--------- https://encd-3260-500gb-88ec2d8b3-tdreszer.demo.encodedcc.org/search/?searchTerm=human ---------\n",
      "\u001b[31mAverage es_time: 281.906 ± 28.277 ms (n=100)\u001b[0m\n",
      "\u001b[36mAverage queue_time: 0.896 ± 0.378 ms (n=100)\u001b[0m\n",
      "\u001b[36mAverage render_time: 40.212 ± 7.366 ms (n=100)\u001b[0m\n",
      "\u001b[33mAverage wsgi_time: 339.168 ± 27.382 ms (n=100)\u001b[0m\n",
      "\u001b[31mAverage total time: 662.182 ± 54.096 ms (n=100)\u001b[0m\n",
      "--------- https://encd-3916-broken-metadata-queries-153e03eb1-karthik.demo.encodedcc.org//search/?searchTerm=human ---------\n",
      "\u001b[31mAverage es_time: 284.171 ± 13.849 ms (n=100)\u001b[0m\n",
      "\u001b[36mAverage queue_time: 1.352 ± 1.178 ms (n=100)\u001b[0m\n",
      "\u001b[36mAverage render_time: 33.366 ± 6.622 ms (n=100)\u001b[0m\n",
      "\u001b[33mAverage wsgi_time: 331.837 ± 17.028 ms (n=100)\u001b[0m\n",
      "\u001b[31mAverage total time: 650.725 ± 32.457 ms (n=100)\u001b[0m\n",
      "\n",
      "\n",
      "*** item_type: /search/?searchTerm=H3K36me3\n",
      "--------- https://encd-3260-500gb-88ec2d8b3-tdreszer.demo.encodedcc.org/search/?searchTerm=H3K36me3 ---------\n",
      "\u001b[31mAverage es_time: 261.456 ± 17.822 ms (n=100)\u001b[0m\n",
      "\u001b[36mAverage queue_time: 0.92 ± 0.356 ms (n=100)\u001b[0m\n",
      "\u001b[36mAverage render_time: 29.897 ± 6.592 ms (n=100)\u001b[0m\n",
      "\u001b[33mAverage wsgi_time: 301.985 ± 19.688 ms (n=100)\u001b[0m\n",
      "\u001b[31mAverage total time: 594.258 ± 38.477 ms (n=100)\u001b[0m\n",
      "--------- https://encd-3916-broken-metadata-queries-153e03eb1-karthik.demo.encodedcc.org//search/?searchTerm=H3K36me3 ---------\n",
      "\u001b[31mAverage es_time: 284.292 ± 13.567 ms (n=100)\u001b[0m\n",
      "\u001b[36mAverage queue_time: 1.162 ± 0.577 ms (n=100)\u001b[0m\n",
      "\u001b[36mAverage render_time: 30.976 ± 6.081 ms (n=100)\u001b[0m\n",
      "\u001b[33mAverage wsgi_time: 328.012 ± 15.216 ms (n=100)\u001b[0m\n",
      "\u001b[31mAverage total time: 644.441 ± 29.171 ms (n=100)\u001b[0m\n",
      "\n",
      "\n",
      "*** item_type: /search/?searchTerm=CTCF\n",
      "--------- https://encd-3260-500gb-88ec2d8b3-tdreszer.demo.encodedcc.org/search/?searchTerm=CTCF ---------\n",
      "\u001b[31mAverage es_time: 256.51 ± 17.147 ms (n=100)\u001b[0m\n",
      "\u001b[36mAverage queue_time: 1.115 ± 0.613 ms (n=100)\u001b[0m\n",
      "\u001b[36mAverage render_time: 27.665 ± 6.178 ms (n=100)\u001b[0m\n",
      "\u001b[33mAverage wsgi_time: 295.539 ± 18.407 ms (n=100)\u001b[0m\n",
      "\u001b[31mAverage total time: 580.829 ± 36.551 ms (n=100)\u001b[0m\n",
      "--------- https://encd-3916-broken-metadata-queries-153e03eb1-karthik.demo.encodedcc.org//search/?searchTerm=CTCF ---------\n",
      "\u001b[31mAverage es_time: 282.35 ± 15.618 ms (n=100)\u001b[0m\n",
      "\u001b[36mAverage queue_time: 1.174 ± 0.622 ms (n=100)\u001b[0m\n",
      "\u001b[36mAverage render_time: 29.307 ± 6.352 ms (n=100)\u001b[0m\n",
      "\u001b[33mAverage wsgi_time: 324.062 ± 19.218 ms (n=100)\u001b[0m\n",
      "\u001b[31mAverage total time: 636.894 ± 37.292 ms (n=100)\u001b[0m\n",
      "\n"
     ]
    }
   ],
   "source": [
    "qa.check_response_time(item_types=[\"/search/?searchTerm=K562\", \"/search/?searchTerm=DNA+binding\", \"/search/?searchTerm=human\", \"/search/?searchTerm=H3K36me3\", \"/search/?searchTerm=CTCF\"], n=100)"
   ]
  },
  {
   "cell_type": "code",
   "execution_count": 5,
   "metadata": {
    "scrolled": false
   },
   "outputs": [
    {
     "name": "stdout",
     "output_type": "stream",
     "text": [
      "Checking response time\n",
      "\n",
      "*** item_type: /ENCSR255XZG/\n",
      "--------- https://encd-3260-500gb-88ec2d8b3-tdreszer.demo.encodedcc.org/ENCSR255XZG/ ---------\n",
      "\u001b[31mAverage es_time: 18.799 ± 2.221 ms (n=100)\u001b[0m\n",
      "\u001b[36mAverage queue_time: 1.087 ± 0.409 ms (n=100)\u001b[0m\n",
      "\u001b[36mAverage render_time: 124.712 ± 6.86 ms (n=100)\u001b[0m\n",
      "\u001b[33mAverage wsgi_time: 253.032 ± 114.011 ms (n=100)\u001b[0m\n",
      "\u001b[33mAverage total time: 397.629 ± 114.186 ms (n=100)\u001b[0m\n",
      "--------- https://encd-3916-broken-metadata-queries-153e03eb1-karthik.demo.encodedcc.org//ENCSR255XZG/ ---------\n",
      "\u001b[31mAverage es_time: 30.552 ± 4.265 ms (n=100)\u001b[0m\n",
      "\u001b[36mAverage queue_time: 1.489 ± 0.988 ms (n=100)\u001b[0m\n",
      "\u001b[36mAverage render_time: 128.24 ± 8.186 ms (n=100)\u001b[0m\n",
      "\u001b[33mAverage wsgi_time: 264.692 ± 90.243 ms (n=100)\u001b[0m\n",
      "\u001b[31mAverage total time: 424.973 ± 92.512 ms (n=100)\u001b[0m\n",
      "\n",
      "\n",
      "*** item_type: /ENCSR749ILN/\n",
      "--------- https://encd-3260-500gb-88ec2d8b3-tdreszer.demo.encodedcc.org/ENCSR749ILN/ ---------\n",
      "\u001b[31mAverage es_time: 16.009 ± 2.008 ms (n=100)\u001b[0m\n",
      "\u001b[36mAverage queue_time: 1.06 ± 0.406 ms (n=100)\u001b[0m\n",
      "\u001b[36mAverage render_time: 32.1 ± 5.531 ms (n=100)\u001b[0m\n",
      "\u001b[36mAverage wsgi_time: 72.595 ± 7.99 ms (n=100)\u001b[0m\n",
      "\u001b[36mAverage total time: 121.764 ± 13.972 ms (n=100)\u001b[0m\n",
      "--------- https://encd-3916-broken-metadata-queries-153e03eb1-karthik.demo.encodedcc.org//ENCSR749ILN/ ---------\n",
      "\u001b[31mAverage es_time: 26.344 ± 4.023 ms (n=100)\u001b[0m\n",
      "\u001b[36mAverage queue_time: 1.718 ± 1.325 ms (n=100)\u001b[0m\n",
      "\u001b[36mAverage render_time: 34.831 ± 6.83 ms (n=100)\u001b[0m\n",
      "\u001b[36mAverage wsgi_time: 89.495 ± 9.386 ms (n=100)\u001b[0m\n",
      "\u001b[33mAverage total time: 152.388 ± 17.248 ms (n=100)\u001b[0m\n",
      "\n",
      "\n",
      "*** item_type: /ENCSR688GVV/\n",
      "--------- https://encd-3260-500gb-88ec2d8b3-tdreszer.demo.encodedcc.org/ENCSR688GVV/ ---------\n",
      "\u001b[31mAverage es_time: 19.151 ± 3.098 ms (n=100)\u001b[0m\n",
      "\u001b[36mAverage queue_time: 1.164 ± 0.63 ms (n=100)\u001b[0m\n",
      "\u001b[36mAverage render_time: 58.269 ± 8.063 ms (n=100)\u001b[0m\n",
      "\u001b[36mAverage wsgi_time: 146.809 ± 127.303 ms (n=100)\u001b[0m\n",
      "\u001b[33mAverage total time: 225.393 ± 128.765 ms (n=100)\u001b[0m\n",
      "--------- https://encd-3916-broken-metadata-queries-153e03eb1-karthik.demo.encodedcc.org//ENCSR688GVV/ ---------\n",
      "\u001b[31mAverage es_time: 28.762 ± 4.418 ms (n=100)\u001b[0m\n",
      "\u001b[36mAverage queue_time: 1.721 ± 1.261 ms (n=100)\u001b[0m\n",
      "\u001b[36mAverage render_time: 69.268 ± 8.501 ms (n=100)\u001b[0m\n",
      "\u001b[33mAverage wsgi_time: 157.092 ± 62.711 ms (n=100)\u001b[0m\n",
      "\u001b[33mAverage total time: 256.843 ± 64.62 ms (n=100)\u001b[0m\n",
      "\n",
      "\n",
      "*** item_type: /ENCSR301HAG/\n",
      "--------- https://encd-3260-500gb-88ec2d8b3-tdreszer.demo.encodedcc.org/ENCSR301HAG/ ---------\n",
      "\u001b[31mAverage es_time: 15.545 ± 1.613 ms (n=100)\u001b[0m\n",
      "\u001b[36mAverage queue_time: 1.148 ± 0.529 ms (n=100)\u001b[0m\n",
      "\u001b[36mAverage render_time: 14.938 ± 3.959 ms (n=100)\u001b[0m\n",
      "\u001b[36mAverage wsgi_time: 43.882 ± 6.022 ms (n=100)\u001b[0m\n",
      "\u001b[36mAverage total time: 75.513 ± 10.13 ms (n=100)\u001b[0m\n",
      "--------- https://encd-3916-broken-metadata-queries-153e03eb1-karthik.demo.encodedcc.org//ENCSR301HAG/ ---------\n",
      "\u001b[31mAverage es_time: 24.342 ± 6.196 ms (n=100)\u001b[0m\n",
      "\u001b[36mAverage queue_time: 1.774 ± 1.169 ms (n=100)\u001b[0m\n",
      "\u001b[36mAverage render_time: 15.668 ± 3.229 ms (n=100)\u001b[0m\n",
      "\u001b[36mAverage wsgi_time: 55.81 ± 8.095 ms (n=100)\u001b[0m\n",
      "\u001b[36mAverage total time: 97.594 ± 14.931 ms (n=100)\u001b[0m\n",
      "\n",
      "\n",
      "*** item_type: /ENCSR315NAC/\n",
      "--------- https://encd-3260-500gb-88ec2d8b3-tdreszer.demo.encodedcc.org/ENCSR315NAC/ ---------\n",
      "\u001b[31mAverage es_time: 19.768 ± 4.645 ms (n=100)\u001b[0m\n",
      "\u001b[36mAverage queue_time: 1.127 ± 0.442 ms (n=100)\u001b[0m\n",
      "\u001b[36mAverage render_time: 49.291 ± 7.077 ms (n=100)\u001b[0m\n",
      "\u001b[36mAverage wsgi_time: 113.715 ± 38.935 ms (n=100)\u001b[0m\n",
      "\u001b[33mAverage total time: 183.901 ± 42.119 ms (n=100)\u001b[0m\n",
      "--------- https://encd-3916-broken-metadata-queries-153e03eb1-karthik.demo.encodedcc.org//ENCSR315NAC/ ---------\n",
      "\u001b[31mAverage es_time: 26.337 ± 3.112 ms (n=100)\u001b[0m\n",
      "\u001b[36mAverage queue_time: 1.439 ± 0.747 ms (n=100)\u001b[0m\n",
      "\u001b[36mAverage render_time: 58.337 ± 9.277 ms (n=100)\u001b[0m\n",
      "\u001b[36mAverage wsgi_time: 128.559 ± 10.626 ms (n=100)\u001b[0m\n",
      "\u001b[33mAverage total time: 214.672 ± 20.155 ms (n=100)\u001b[0m\n",
      "\n",
      "\n",
      "*** item_type: /ENCSR856JJB/\n",
      "--------- https://encd-3260-500gb-88ec2d8b3-tdreszer.demo.encodedcc.org/ENCSR856JJB/ ---------\n",
      "\u001b[31mAverage es_time: 18.963 ± 1.586 ms (n=100)\u001b[0m\n",
      "\u001b[36mAverage queue_time: 1.297 ± 0.719 ms (n=100)\u001b[0m\n",
      "\u001b[36mAverage render_time: 43.549 ± 7.76 ms (n=100)\u001b[0m\n",
      "\u001b[36mAverage wsgi_time: 99.631 ± 9.478 ms (n=100)\u001b[0m\n",
      "\u001b[33mAverage total time: 163.44 ± 17.421 ms (n=100)\u001b[0m\n",
      "--------- https://encd-3916-broken-metadata-queries-153e03eb1-karthik.demo.encodedcc.org//ENCSR856JJB/ ---------\n",
      "\u001b[31mAverage es_time: 26.732 ± 3.767 ms (n=100)\u001b[0m\n",
      "\u001b[36mAverage queue_time: 1.839 ± 1.22 ms (n=100)\u001b[0m\n",
      "\u001b[36mAverage render_time: 50.763 ± 8.638 ms (n=100)\u001b[0m\n",
      "\u001b[36mAverage wsgi_time: 116.404 ± 11.406 ms (n=100)\u001b[0m\n",
      "\u001b[33mAverage total time: 195.738 ± 20.085 ms (n=100)\u001b[0m\n",
      "\n"
     ]
    }
   ],
   "source": [
    "qa.check_response_time(item_types=['/ENCSR255XZG/', '/ENCSR749ILN/', '/ENCSR688GVV/', '/ENCSR301HAG/','/ENCSR315NAC/', '/ENCSR856JJB/'], n=100)"
   ]
  },
  {
   "cell_type": "code",
   "execution_count": null,
   "metadata": {
    "scrolled": false
   },
   "outputs": [],
   "source": [
    "qa.check_response_time(item_types=['/ENCSR480OHP/','/ENCSR000EMB/','/ENCSR323QIP/','/ENCSR718AXQ/','/ENCSR165BGV/','/ENCSR384KAN/','/ENCSR330FXL/','/ENCSR825UNV/'], n=100)"
   ]
  },
  {
   "cell_type": "code",
   "execution_count": null,
   "metadata": {},
   "outputs": [],
   "source": [
    "qa.check_response_time(item_types=['/ENCAB830JLB/','/ENCAB000BKR/','/ENCAB284TTY/','/ENCAB294YUD/','/ENCAB000AOC/','/ENCAB301QZF/','/ENCAB000ANM/','/ENCAB000ANU/','/ENCAB445KMF/','/ENCAB000BAY/'], n=100)"
   ]
  },
  {
   "cell_type": "code",
   "execution_count": null,
   "metadata": {},
   "outputs": [],
   "source": [
    "qa.check_response_time(item_types=['/ENCBS787TFV/','/ENCBS676QAV/','/ENCBS996IWU/','/ENCBS913XJP/','/ENCBS565NTN/','/ENCBS896YZO/','/ENCBS280NYD/'], n=100)"
   ]
  },
  {
   "cell_type": "code",
   "execution_count": null,
   "metadata": {},
   "outputs": [],
   "source": []
  }
 ],
 "metadata": {
  "kernelspec": {
   "display_name": "Python 3",
   "language": "python",
   "name": "python3"
  },
  "language_info": {
   "codemirror_mode": {
    "name": "ipython",
    "version": 3
   },
   "file_extension": ".py",
   "mimetype": "text/x-python",
   "name": "python",
   "nbconvert_exporter": "python",
   "pygments_lexer": "ipython3",
   "version": "3.4.3"
  }
 },
 "nbformat": 4,
 "nbformat_minor": 2
}
